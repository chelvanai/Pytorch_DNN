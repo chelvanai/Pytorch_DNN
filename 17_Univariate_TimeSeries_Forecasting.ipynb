{
  "nbformat": 4,
  "nbformat_minor": 0,
  "metadata": {
    "colab": {
      "name": "Univariate_TimeSeries_Forecasting.ipynb",
      "provenance": [],
      "collapsed_sections": []
    },
    "kernelspec": {
      "name": "python3",
      "display_name": "Python 3"
    },
    "language_info": {
      "name": "python"
    },
    "accelerator": "GPU"
  },
  "cells": [
    {
      "cell_type": "code",
      "metadata": {
        "id": "qBakKT0Hw7kv"
      },
      "source": [
        "import numpy as np\n",
        "import matplotlib.pyplot as plt\n",
        "import pandas as pd\n",
        "import torch\n",
        "import torch.nn as nn\n",
        "from torch.autograd import Variable\n",
        "from sklearn.preprocessing import MinMaxScaler\n",
        "import requests"
      ],
      "execution_count": 1,
      "outputs": []
    },
    {
      "cell_type": "markdown",
      "metadata": {
        "id": "B3ogYwI858xU"
      },
      "source": [
        "### Dataset download"
      ]
    },
    {
      "cell_type": "code",
      "metadata": {
        "id": "PZd8uycJ57Ud"
      },
      "source": [
        "r = requests.get(\"https://raw.githubusercontent.com/jbrownlee/Datasets/master/airline-passengers.csv\")\n",
        "filename = \"airline-passengers.csv\"\n",
        "with open(filename, 'wb') as output_file:\n",
        "    output_file.write(r.content)"
      ],
      "execution_count": 2,
      "outputs": []
    },
    {
      "cell_type": "markdown",
      "metadata": {
        "id": "tD3Kj78H6Brn"
      },
      "source": [
        "### Dataset explore"
      ]
    },
    {
      "cell_type": "code",
      "metadata": {
        "id": "ECo7DEWY57XN"
      },
      "source": [
        "df = pd.read_csv('airline-passengers.csv')"
      ],
      "execution_count": 3,
      "outputs": []
    },
    {
      "cell_type": "code",
      "metadata": {
        "colab": {
          "base_uri": "https://localhost:8080/",
          "height": 206
        },
        "id": "Bdxbkp8g57ab",
        "outputId": "10e84b01-854b-4deb-f447-09ff52d9f70d"
      },
      "source": [
        "df.head()"
      ],
      "execution_count": 4,
      "outputs": [
        {
          "output_type": "execute_result",
          "data": {
            "text/html": [
              "<div>\n",
              "<style scoped>\n",
              "    .dataframe tbody tr th:only-of-type {\n",
              "        vertical-align: middle;\n",
              "    }\n",
              "\n",
              "    .dataframe tbody tr th {\n",
              "        vertical-align: top;\n",
              "    }\n",
              "\n",
              "    .dataframe thead th {\n",
              "        text-align: right;\n",
              "    }\n",
              "</style>\n",
              "<table border=\"1\" class=\"dataframe\">\n",
              "  <thead>\n",
              "    <tr style=\"text-align: right;\">\n",
              "      <th></th>\n",
              "      <th>Month</th>\n",
              "      <th>Passengers</th>\n",
              "    </tr>\n",
              "  </thead>\n",
              "  <tbody>\n",
              "    <tr>\n",
              "      <th>0</th>\n",
              "      <td>1949-01</td>\n",
              "      <td>112</td>\n",
              "    </tr>\n",
              "    <tr>\n",
              "      <th>1</th>\n",
              "      <td>1949-02</td>\n",
              "      <td>118</td>\n",
              "    </tr>\n",
              "    <tr>\n",
              "      <th>2</th>\n",
              "      <td>1949-03</td>\n",
              "      <td>132</td>\n",
              "    </tr>\n",
              "    <tr>\n",
              "      <th>3</th>\n",
              "      <td>1949-04</td>\n",
              "      <td>129</td>\n",
              "    </tr>\n",
              "    <tr>\n",
              "      <th>4</th>\n",
              "      <td>1949-05</td>\n",
              "      <td>121</td>\n",
              "    </tr>\n",
              "  </tbody>\n",
              "</table>\n",
              "</div>"
            ],
            "text/plain": [
              "     Month  Passengers\n",
              "0  1949-01         112\n",
              "1  1949-02         118\n",
              "2  1949-03         132\n",
              "3  1949-04         129\n",
              "4  1949-05         121"
            ]
          },
          "metadata": {
            "tags": []
          },
          "execution_count": 4
        }
      ]
    },
    {
      "cell_type": "code",
      "metadata": {
        "id": "3W4_Lx5K6HG9"
      },
      "source": [
        "df = df.iloc[:, 1:2].values"
      ],
      "execution_count": 5,
      "outputs": []
    },
    {
      "cell_type": "code",
      "metadata": {
        "colab": {
          "base_uri": "https://localhost:8080/"
        },
        "id": "rDVUhV3x6sdL",
        "outputId": "0b94499d-9faa-454e-b68a-504f2886ffa9"
      },
      "source": [
        "df[0],df[1]"
      ],
      "execution_count": 6,
      "outputs": [
        {
          "output_type": "execute_result",
          "data": {
            "text/plain": [
              "(array([112]), array([118]))"
            ]
          },
          "metadata": {
            "tags": []
          },
          "execution_count": 6
        }
      ]
    },
    {
      "cell_type": "code",
      "metadata": {
        "colab": {
          "base_uri": "https://localhost:8080/",
          "height": 265
        },
        "id": "_mIDNfBl6Jv-",
        "outputId": "8099509e-38ac-4b87-f9f3-c22765e01ee0"
      },
      "source": [
        "plt.plot(df, label='Airline Passangers Data')\n",
        "plt.show()"
      ],
      "execution_count": 7,
      "outputs": [
        {
          "output_type": "display_data",
          "data": {
            "image/png": "[encoded data removed]",
            "text/plain": [
              "<Figure size 432x288 with 1 Axes>"
            ]
          },
          "metadata": {
            "tags": [],
            "needs_background": "light"
          }
        }
      ]
    },
    {
      "cell_type": "markdown",
      "metadata": {
        "id": "8IWTVDgH69EO"
      },
      "source": [
        "### Sequence data arrange"
      ]
    },
    {
      "cell_type": "code",
      "metadata": {
        "id": "DvxQPUex6Z9K"
      },
      "source": [
        "def sliding_windows(data, seq_length):\n",
        "    x = []\n",
        "    y = []\n",
        "\n",
        "    for i in range(len(data) - seq_length - 1):\n",
        "        _x = data[i:(i + seq_length)]\n",
        "        _y = data[i + seq_length]\n",
        "        x.append(_x)\n",
        "        y.append(_y)\n",
        "\n",
        "    return np.array(x), np.array(y)"
      ],
      "execution_count": 8,
      "outputs": []
    },
    {
      "cell_type": "markdown",
      "metadata": {
        "id": "8nOf-Tb07DU_"
      },
      "source": [
        "### Scaling to easy train "
      ]
    },
    {
      "cell_type": "code",
      "metadata": {
        "id": "UcJt2hvj6aAS"
      },
      "source": [
        "sc = MinMaxScaler()\n",
        "df = sc.fit_transform(df)"
      ],
      "execution_count": 9,
      "outputs": []
    },
    {
      "cell_type": "code",
      "metadata": {
        "id": "fZ7fkr_96aGA"
      },
      "source": [
        "seq_length = 4\n",
        "x, y = sliding_windows(df, seq_length)"
      ],
      "execution_count": 11,
      "outputs": []
    },
    {
      "cell_type": "code",
      "metadata": {
        "colab": {
          "base_uri": "https://localhost:8080/"
        },
        "id": "MeVeSwzh907C",
        "outputId": "b3ddb522-8cd1-4f8a-a749-9465bfdd6e77"
      },
      "source": [
        "print(\"Sequence 1:-\\n\",x[0])\n",
        "print()\n",
        "print(\"output for sequence 1:-\\n\",y[0])"
      ],
      "execution_count": 15,
      "outputs": [
        {
          "output_type": "stream",
          "text": [
            "Sequence 1:-\n",
            " [[0.01544402]\n",
            " [0.02702703]\n",
            " [0.05405405]\n",
            " [0.04826255]]\n",
            "\n",
            "output for sequence 1:-\n",
            " [0.03281853]\n"
          ],
          "name": "stdout"
        }
      ]
    },
    {
      "cell_type": "code",
      "metadata": {
        "colab": {
          "base_uri": "https://localhost:8080/"
        },
        "id": "GZmT1WmA-M7Z",
        "outputId": "246d0091-5486-49d5-eb60-9b64107274f2"
      },
      "source": [
        "print(\"Sequence 2:-\\n\",x[1])\n",
        "print()\n",
        "print(\"output for sequence 2:-\\n\",y[1])"
      ],
      "execution_count": 16,
      "outputs": [
        {
          "output_type": "stream",
          "text": [
            "Sequence 2:-\n",
            " [[0.02702703]\n",
            " [0.05405405]\n",
            " [0.04826255]\n",
            " [0.03281853]]\n",
            "\n",
            "output for sequence 2:-\n",
            " [0.05984556]\n"
          ],
          "name": "stdout"
        }
      ]
    },
    {
      "cell_type": "markdown",
      "metadata": {
        "id": "2fbwEPSF7kwc"
      },
      "source": [
        "### Train and Test data split"
      ]
    },
    {
      "cell_type": "code",
      "metadata": {
        "id": "lnGBITkG7Mdr"
      },
      "source": [
        "train_size = int(len(y) * 0.67)\n",
        "test_size = len(y) - train_size\n",
        "\n",
        "dataX = Variable(torch.Tensor(np.array(x)))\n",
        "dataY = Variable(torch.Tensor(np.array(y)))\n",
        "\n",
        "trainX = Variable(torch.Tensor(np.array(x[0:train_size])))\n",
        "trainY = Variable(torch.Tensor(np.array(y[0:train_size])))\n",
        "\n",
        "testX = Variable(torch.Tensor(np.array(x[train_size:len(x)])))\n",
        "testY = Variable(torch.Tensor(np.array(y[train_size:len(y)])))"
      ],
      "execution_count": 19,
      "outputs": []
    },
    {
      "cell_type": "markdown",
      "metadata": {
        "id": "gUx-hdBO-fWt"
      },
      "source": [
        "### LSTM Model"
      ]
    },
    {
      "cell_type": "code",
      "metadata": {
        "id": "3oc-of7S71oK"
      },
      "source": [
        "class LSTM(nn.Module):\n",
        "\n",
        "    def __init__(self, num_classes, input_size, hidden_size, num_layers):\n",
        "        super(LSTM, self).__init__()\n",
        "\n",
        "        self.num_classes = num_classes\n",
        "        self.num_layers = num_layers\n",
        "        self.input_size = input_size\n",
        "        self.hidden_size = hidden_size\n",
        "        self.seq_length = seq_length\n",
        "\n",
        "        self.lstm = nn.LSTM(input_size=input_size, hidden_size=hidden_size,\n",
        "                            num_layers=num_layers, batch_first=True)\n",
        "\n",
        "        self.fc = nn.Linear(hidden_size, num_classes)\n",
        "\n",
        "    def forward(self, x):\n",
        "        h_0 = Variable(torch.zeros(\n",
        "            self.num_layers, x.size(0), self.hidden_size))\n",
        "\n",
        "        c_0 = Variable(torch.zeros(\n",
        "            self.num_layers, x.size(0), self.hidden_size))\n",
        "\n",
        "        # Propagate input through LSTM\n",
        "        ula, (h_out, _) = self.lstm(x, (h_0, c_0))\n",
        "\n",
        "        h_out = h_out.view(-1, self.hidden_size)\n",
        "\n",
        "        out = self.fc(h_out)\n",
        "\n",
        "        return out\n"
      ],
      "execution_count": 22,
      "outputs": []
    },
    {
      "cell_type": "markdown",
      "metadata": {
        "id": "O8XA1B6q-j-K"
      },
      "source": [
        "### Hyber parameters"
      ]
    },
    {
      "cell_type": "code",
      "metadata": {
        "id": "8sRZt984-hQ4"
      },
      "source": [
        "num_epochs = 2000\n",
        "learning_rate = 0.01\n",
        "\n",
        "input_size = 1\n",
        "hidden_size = 2\n",
        "num_layers = 1\n",
        "\n",
        "num_classes = 1"
      ],
      "execution_count": 23,
      "outputs": []
    },
    {
      "cell_type": "code",
      "metadata": {
        "id": "ukEAsuvF-lq0"
      },
      "source": [
        "lstm = LSTM(num_classes, input_size, hidden_size, num_layers)"
      ],
      "execution_count": 24,
      "outputs": []
    },
    {
      "cell_type": "code",
      "metadata": {
        "colab": {
          "base_uri": "https://localhost:8080/"
        },
        "id": "UrmGm4or-pOi",
        "outputId": "f4c088cf-0b93-4f77-e51d-6da5bc3a8017"
      },
      "source": [
        "lstm"
      ],
      "execution_count": 25,
      "outputs": [
        {
          "output_type": "execute_result",
          "data": {
            "text/plain": [
              "LSTM(\n",
              "  (lstm): LSTM(1, 2, batch_first=True)\n",
              "  (fc): Linear(in_features=2, out_features=1, bias=True)\n",
              ")"
            ]
          },
          "metadata": {
            "tags": []
          },
          "execution_count": 25
        }
      ]
    },
    {
      "cell_type": "markdown",
      "metadata": {
        "id": "v_u8TCKi-rNu"
      },
      "source": [
        "### Loss & Optimizer"
      ]
    },
    {
      "cell_type": "code",
      "metadata": {
        "id": "4fGFCHgq-ppu"
      },
      "source": [
        "criterion = torch.nn.MSELoss()  # mean-squared error for regression\n",
        "optimizer = torch.optim.Adam(lstm.parameters(), lr=learning_rate)"
      ],
      "execution_count": 26,
      "outputs": []
    },
    {
      "cell_type": "markdown",
      "metadata": {
        "id": "ODgkFQ_U-yro"
      },
      "source": [
        "### Train"
      ]
    },
    {
      "cell_type": "code",
      "metadata": {
        "colab": {
          "base_uri": "https://localhost:8080/"
        },
        "id": "DuFUfcDL-tWN",
        "outputId": "ba887889-77f4-43ee-ddf6-fd151b87afe3"
      },
      "source": [
        "for epoch in range(num_epochs):\n",
        "    outputs = lstm(trainX)\n",
        "    optimizer.zero_grad()\n",
        "\n",
        "    # obtain the loss function\n",
        "    loss = criterion(outputs, trainY)\n",
        "\n",
        "    loss.backward()\n",
        "\n",
        "    optimizer.step()\n",
        "    if epoch % 100 == 0:\n",
        "        print(\"Epoch: %d, loss: %1.5f\" % (epoch, loss.item()))"
      ],
      "execution_count": 27,
      "outputs": [
        {
          "output_type": "stream",
          "text": [
            "Epoch: 0, loss: 0.05537\n",
            "Epoch: 100, loss: 0.00867\n",
            "Epoch: 200, loss: 0.00269\n",
            "Epoch: 300, loss: 0.00210\n",
            "Epoch: 400, loss: 0.00183\n",
            "Epoch: 500, loss: 0.00172\n",
            "Epoch: 600, loss: 0.00169\n",
            "Epoch: 700, loss: 0.00167\n",
            "Epoch: 800, loss: 0.00166\n",
            "Epoch: 900, loss: 0.00164\n",
            "Epoch: 1000, loss: 0.00163\n",
            "Epoch: 1100, loss: 0.00162\n",
            "Epoch: 1200, loss: 0.00160\n",
            "Epoch: 1300, loss: 0.00160\n",
            "Epoch: 1400, loss: 0.00159\n",
            "Epoch: 1500, loss: 0.00159\n",
            "Epoch: 1600, loss: 0.00158\n",
            "Epoch: 1700, loss: 0.00158\n",
            "Epoch: 1800, loss: 0.00158\n",
            "Epoch: 1900, loss: 0.00157\n"
          ],
          "name": "stdout"
        }
      ]
    },
    {
      "cell_type": "markdown",
      "metadata": {
        "id": "p-S1pkQS-2PL"
      },
      "source": [
        "### Evalution"
      ]
    },
    {
      "cell_type": "code",
      "metadata": {
        "id": "FkTu8vn_-zqd"
      },
      "source": [
        "lstm.eval()\n",
        "train_predict = lstm(dataX)"
      ],
      "execution_count": 28,
      "outputs": []
    },
    {
      "cell_type": "markdown",
      "metadata": {
        "id": "CdIG9Olh--wP"
      },
      "source": [
        "### Inverse to scaling"
      ]
    },
    {
      "cell_type": "code",
      "metadata": {
        "id": "jwwJ4H9v-5yQ"
      },
      "source": [
        "data_predict = train_predict.data.numpy()\n",
        "dataY_plot = dataY.data.numpy()\n",
        "\n",
        "data_predict = sc.inverse_transform(data_predict)\n",
        "dataY_plot = sc.inverse_transform(dataY_plot)"
      ],
      "execution_count": 29,
      "outputs": []
    },
    {
      "cell_type": "code",
      "metadata": {
        "colab": {
          "base_uri": "https://localhost:8080/",
          "height": 294
        },
        "id": "yqSv2_gU-9mj",
        "outputId": "5d5801a9-2ddc-455d-f7e0-cdb7252d2b9c"
      },
      "source": [
        "plt.axvline(x=train_size, c='r', linestyle='--')\n",
        "\n",
        "plt.plot(dataY_plot)\n",
        "plt.plot(data_predict)\n",
        "plt.suptitle('Time-Series Prediction')\n",
        "plt.show()"
      ],
      "execution_count": 30,
      "outputs": [
        {
          "output_type": "display_data",
          "data": {
            "image/png": "[encoded data removed]",
            "text/plain": [
              "<Figure size 432x288 with 1 Axes>"
            ]
          },
          "metadata": {
            "tags": [],
            "needs_background": "light"
          }
        }
      ]
    },
    {
      "cell_type": "code",
      "metadata": {
        "id": "GcQgEgAW_C8Q"
      },
      "source": [
        ""
      ],
      "execution_count": null,
      "outputs": []
    }
  ]
}