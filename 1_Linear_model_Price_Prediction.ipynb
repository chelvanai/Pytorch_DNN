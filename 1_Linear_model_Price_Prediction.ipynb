{
 "cells": [
  {
   "cell_type": "code",
   "execution_count": 1,
   "id": "bd1fd5d3",
   "metadata": {},
   "outputs": [],
   "source": [
    "from torch import nn\n",
    "import torch\n",
    "from torch import tensor"
   ]
  },
  {
   "cell_type": "markdown",
   "id": "61addc5d",
   "metadata": {},
   "source": [
    "### Dataset"
   ]
  },
  {
   "cell_type": "code",
   "execution_count": 2,
   "id": "2631af8a",
   "metadata": {},
   "outputs": [],
   "source": [
    "x_data = tensor([[1.0], [2.0], [3.0]])\n",
    "y_data = tensor([[2.0], [4.0], [6.0]])"
   ]
  },
  {
   "cell_type": "markdown",
   "id": "110d56d2",
   "metadata": {},
   "source": [
    "### Model"
   ]
  },
  {
   "cell_type": "code",
   "execution_count": 3,
   "id": "4f337a31",
   "metadata": {},
   "outputs": [],
   "source": [
    "class Model(nn.Module):\n",
    "    def __init__(self):\n",
    "        super(Model, self).__init__()\n",
    "        self.linear = torch.nn.Linear(1, 1)  # One in and one out\n",
    "\n",
    "    def forward(self, x):\n",
    "        y_pred = self.linear(x)\n",
    "        return y_pred"
   ]
  },
  {
   "cell_type": "code",
   "execution_count": 4,
   "id": "3e6cd3aa",
   "metadata": {},
   "outputs": [],
   "source": [
    "model = Model()"
   ]
  },
  {
   "cell_type": "markdown",
   "id": "dece75ea",
   "metadata": {},
   "source": [
    "### Optimizer and loss"
   ]
  },
  {
   "cell_type": "code",
   "execution_count": 5,
   "id": "c8ef628e",
   "metadata": {},
   "outputs": [],
   "source": [
    "criterion = torch.nn.MSELoss(reduction='sum')\n",
    "optimizer = torch.optim.SGD(model.parameters(), lr=0.01)"
   ]
  },
  {
   "cell_type": "markdown",
   "id": "30f42221",
   "metadata": {},
   "source": [
    "### Train"
   ]
  },
  {
   "cell_type": "code",
   "execution_count": 6,
   "id": "c9c91bbc",
   "metadata": {
    "scrolled": true
   },
   "outputs": [
    {
     "name": "stdout",
     "output_type": "stream",
     "text": [
      "Epoch: 0 | Loss: 41.27212905883789 \n",
      "Epoch: 1 | Loss: 18.46017074584961 \n",
      "Epoch: 2 | Loss: 8.30368423461914 \n",
      "Epoch: 3 | Loss: 3.7810723781585693 \n",
      "Epoch: 4 | Loss: 1.766519546508789 \n",
      "Epoch: 5 | Loss: 0.868500292301178 \n",
      "Epoch: 6 | Loss: 0.4675482511520386 \n",
      "Epoch: 7 | Loss: 0.2878928780555725 \n",
      "Epoch: 8 | Loss: 0.20676925778388977 \n",
      "Epoch: 9 | Loss: 0.16952566802501678 \n",
      "Epoch: 10 | Loss: 0.15183237195014954 \n",
      "Epoch: 11 | Loss: 0.1428583413362503 \n",
      "Epoch: 12 | Loss: 0.13778141140937805 \n",
      "Epoch: 13 | Loss: 0.1344553530216217 \n",
      "Epoch: 14 | Loss: 0.13192391395568848 \n",
      "Epoch: 15 | Loss: 0.12976112961769104 \n",
      "Epoch: 16 | Loss: 0.12777754664421082 \n",
      "Epoch: 17 | Loss: 0.12588819861412048 \n",
      "Epoch: 18 | Loss: 0.12405557930469513 \n",
      "Epoch: 19 | Loss: 0.12226210534572601 \n"
     ]
    }
   ],
   "source": [
    "for epoch in range(20):\n",
    "    # 1) Forward pass: Compute predicted y by passing x to the model\n",
    "    y_pred = model(x_data)\n",
    "\n",
    "    # 2) Compute and print loss\n",
    "    loss = criterion(y_pred, y_data)\n",
    "    print(f'Epoch: {epoch} | Loss: {loss.item()} ')\n",
    "\n",
    "    # Zero gradients, perform a backward pass, and update the weights.\n",
    "    optimizer.zero_grad()\n",
    "    loss.backward()\n",
    "    optimizer.step()\n"
   ]
  },
  {
   "cell_type": "markdown",
   "id": "b7673c97",
   "metadata": {},
   "source": [
    "### Test"
   ]
  },
  {
   "cell_type": "code",
   "execution_count": 7,
   "id": "64a22d0d",
   "metadata": {},
   "outputs": [],
   "source": [
    "res = model(tensor([[4.0]]))"
   ]
  },
  {
   "cell_type": "code",
   "execution_count": 8,
   "id": "7dcc323e",
   "metadata": {},
   "outputs": [
    {
     "data": {
      "text/plain": [
       "tensor([[7.5961]], grad_fn=<AddmmBackward>)"
      ]
     },
     "execution_count": 8,
     "metadata": {},
     "output_type": "execute_result"
    }
   ],
   "source": [
    "res"
   ]
  },
  {
   "cell_type": "code",
   "execution_count": null,
   "id": "1cfdba86",
   "metadata": {},
   "outputs": [],
   "source": []
  }
 ],
 "metadata": {
  "kernelspec": {
   "display_name": "Python 3",
   "language": "python",
   "name": "python3"
  },
  "language_info": {
   "codemirror_mode": {
    "name": "ipython",
    "version": 3
   },
   "file_extension": ".py",
   "mimetype": "text/x-python",
   "name": "python",
   "nbconvert_exporter": "python",
   "pygments_lexer": "ipython3",
   "version": "3.8.5"
  }
 },
 "nbformat": 4,
 "nbformat_minor": 5
}
