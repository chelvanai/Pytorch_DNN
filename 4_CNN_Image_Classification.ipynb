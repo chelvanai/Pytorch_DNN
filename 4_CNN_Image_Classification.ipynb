{
 "cells": [
  {
   "cell_type": "code",
   "execution_count": 1,
   "id": "615d6a26",
   "metadata": {},
   "outputs": [],
   "source": [
    "import os\n",
    "\n",
    "import torch\n",
    "import torch.nn as nn\n",
    "import torch.nn.functional as F\n",
    "from PIL import Image\n",
    "from sklearn import preprocessing\n",
    "from torch.utils.data import Dataset, DataLoader\n",
    "from torchvision import transforms"
   ]
  },
  {
   "cell_type": "code",
   "execution_count": 2,
   "id": "8793a83f",
   "metadata": {},
   "outputs": [],
   "source": [
    "!wget https://storage.googleapis.com/download.tensorflow.org/example_images/flower_photos.tgz\n",
    "!tar -xvzf flower_photos.tgz"
   ]
  },
  {
   "cell_type": "code",
   "execution_count": 3,
   "id": "f086d005",
   "metadata": {},
   "outputs": [
    {
     "name": "stdout",
     "output_type": "stream",
     "text": [
      "cuda:0\n"
     ]
    }
   ],
   "source": [
    "device = torch.device(\"cuda:0\" if torch.cuda.is_available() else \"cpu\")\n",
    "print(device)"
   ]
  },
  {
   "cell_type": "code",
   "execution_count": 4,
   "id": "d364147f",
   "metadata": {},
   "outputs": [],
   "source": [
    "means = [0.485, 0.456, 0.406]\n",
    "stds = [0.229, 0.224, 0.225]\n",
    "\n",
    "# Transforms to be applied to Train-Test-Validation\n",
    "train_transforms = transforms.Compose([\n",
    "    transforms.RandomResizedCrop(32),\n",
    "    transforms.RandomHorizontalFlip(p=0.5),\n",
    "    transforms.ToTensor(),\n",
    "    transforms.Normalize(means, stds)])"
   ]
  },
  {
   "cell_type": "markdown",
   "id": "ac45bf58",
   "metadata": {},
   "source": [
    "### Dataloader"
   ]
  },
  {
   "cell_type": "code",
   "execution_count": 5,
   "id": "ed3cd212",
   "metadata": {},
   "outputs": [],
   "source": [
    "class CustomImageDataset(Dataset):\n",
    "    def __init__(self, img_path):\n",
    "        self.img_path = img_path\n",
    "\n",
    "        self.data = []\n",
    "        self.label = []\n",
    "        for i in os.listdir(self.img_path):\n",
    "            if os.path.isdir(self.img_path + \"/\" + i):\n",
    "                for j in os.listdir(self.img_path + \"/\" + i):\n",
    "                    self.data.append(self.img_path + \"/\" + i + \"/\" + j)\n",
    "                    self.label.append(str(i))\n",
    "        label_encoder = preprocessing.LabelEncoder()\n",
    "        self.label = label_encoder.fit_transform(self.label)\n",
    "        mapping = dict(zip(label_encoder.classes_, label_encoder.transform(label_encoder.classes_)))\n",
    "        print(mapping)\n",
    "\n",
    "    def __len__(self):\n",
    "        return len(self.data)\n",
    "\n",
    "    def __getitem__(self, idx):\n",
    "        img = Image.open(self.data[idx])\n",
    "        img = train_transforms(img)\n",
    "        label = self.label[idx]\n",
    "        label_tensor = torch.as_tensor(label, dtype=torch.long)\n",
    "        return {'im': img, 'labels': label_tensor}"
   ]
  },
  {
   "cell_type": "code",
   "execution_count": 6,
   "id": "7c822911",
   "metadata": {},
   "outputs": [
    {
     "name": "stdout",
     "output_type": "stream",
     "text": [
      "{'daisy': 0, 'dandelion': 1, 'roses': 2, 'sunflowers': 3, 'tulips': 4}\n"
     ]
    }
   ],
   "source": [
    "dataset = CustomImageDataset(\"./flower_photos\")\n",
    "dataloader = DataLoader(dataset, batch_size=16, shuffle=True)"
   ]
  },
  {
   "cell_type": "markdown",
   "id": "3ff8efb2",
   "metadata": {},
   "source": [
    "### Model"
   ]
  },
  {
   "cell_type": "code",
   "execution_count": 7,
   "id": "94b6870c",
   "metadata": {},
   "outputs": [],
   "source": [
    "class Net(nn.Module):\n",
    "    def __init__(self):\n",
    "        super().__init__()\n",
    "        self.conv1 = nn.Conv2d(3, 6, 5)\n",
    "        self.pool = nn.MaxPool2d(2, 2)\n",
    "        self.conv2 = nn.Conv2d(6, 16, 5)\n",
    "        self.fc1 = nn.Linear(16 * 5 * 5, 120)\n",
    "        self.fc2 = nn.Linear(120, 84)\n",
    "        self.fc3 = nn.Linear(84, 10)\n",
    "\n",
    "    def forward(self, x):\n",
    "        x = self.pool(F.relu(self.conv1(x)))\n",
    "        x = self.pool(F.relu(self.conv2(x)))\n",
    "        x = torch.flatten(x, 1)  # flatten all dimensions except batch\n",
    "        x = F.relu(self.fc1(x))\n",
    "        x = F.relu(self.fc2(x))\n",
    "        x = self.fc3(x)\n",
    "        return x\n"
   ]
  },
  {
   "cell_type": "code",
   "execution_count": 8,
   "id": "29d8624c",
   "metadata": {},
   "outputs": [],
   "source": [
    "model = Net().to(device)"
   ]
  },
  {
   "cell_type": "markdown",
   "id": "acbd142c",
   "metadata": {},
   "source": [
    "### Optimizer and loss"
   ]
  },
  {
   "cell_type": "code",
   "execution_count": 9,
   "id": "bbccfb54",
   "metadata": {},
   "outputs": [],
   "source": [
    "criterion = nn.CrossEntropyLoss()\n",
    "optimizer = torch.optim.SGD(model.parameters(), lr=0.001, momentum=0.9)"
   ]
  },
  {
   "cell_type": "markdown",
   "id": "1bfe9622",
   "metadata": {},
   "source": [
    "### Train"
   ]
  },
  {
   "cell_type": "code",
   "execution_count": 10,
   "id": "87865d56",
   "metadata": {
    "scrolled": true
   },
   "outputs": [
    {
     "name": "stdout",
     "output_type": "stream",
     "text": [
      "EPOCH: 0 Training Loss: 1.881 Train Accuracy: 25.57%\n",
      "EPOCH: 1 Training Loss: 1.535 Train Accuracy: 30.12%\n",
      "EPOCH: 2 Training Loss: 1.484 Train Accuracy: 33.63%\n",
      "EPOCH: 3 Training Loss: 1.391 Train Accuracy: 40.03%\n",
      "EPOCH: 4 Training Loss: 1.297 Train Accuracy: 44.73%\n",
      "EPOCH: 5 Training Loss: 1.280 Train Accuracy: 45.51%\n",
      "EPOCH: 6 Training Loss: 1.258 Train Accuracy: 46.52%\n",
      "EPOCH: 7 Training Loss: 1.215 Train Accuracy: 49.45%\n",
      "EPOCH: 8 Training Loss: 1.200 Train Accuracy: 50.14%\n",
      "EPOCH: 9 Training Loss: 1.182 Train Accuracy: 52.15%\n",
      "EPOCH: 10 Training Loss: 1.153 Train Accuracy: 52.39%\n",
      "EPOCH: 11 Training Loss: 1.149 Train Accuracy: 53.89%\n",
      "EPOCH: 12 Training Loss: 1.133 Train Accuracy: 54.64%\n",
      "EPOCH: 13 Training Loss: 1.111 Train Accuracy: 55.69%\n",
      "EPOCH: 14 Training Loss: 1.087 Train Accuracy: 56.22%\n",
      "EPOCH: 15 Training Loss: 1.079 Train Accuracy: 57.53%\n",
      "EPOCH: 16 Training Loss: 1.081 Train Accuracy: 56.26%\n",
      "EPOCH: 17 Training Loss: 1.071 Train Accuracy: 57.99%\n",
      "EPOCH: 18 Training Loss: 1.049 Train Accuracy: 57.43%\n",
      "EPOCH: 19 Training Loss: 1.044 Train Accuracy: 57.66%\n",
      "EPOCH: 20 Training Loss: 1.052 Train Accuracy: 58.02%\n",
      "EPOCH: 21 Training Loss: 1.015 Train Accuracy: 60.38%\n",
      "EPOCH: 22 Training Loss: 1.004 Train Accuracy: 59.19%\n",
      "EPOCH: 23 Training Loss: 1.015 Train Accuracy: 59.67%\n",
      "EPOCH: 24 Training Loss: 1.010 Train Accuracy: 59.00%\n",
      "EPOCH: 25 Training Loss: 0.983 Train Accuracy: 60.65%\n",
      "EPOCH: 26 Training Loss: 1.000 Train Accuracy: 60.33%\n",
      "EPOCH: 27 Training Loss: 0.984 Train Accuracy: 60.72%\n",
      "EPOCH: 28 Training Loss: 0.974 Train Accuracy: 61.99%\n",
      "EPOCH: 29 Training Loss: 0.968 Train Accuracy: 61.26%\n",
      "EPOCH: 30 Training Loss: 0.963 Train Accuracy: 62.30%\n",
      "EPOCH: 31 Training Loss: 0.968 Train Accuracy: 61.89%\n",
      "EPOCH: 32 Training Loss: 0.955 Train Accuracy: 62.84%\n",
      "EPOCH: 33 Training Loss: 0.947 Train Accuracy: 62.40%\n",
      "EPOCH: 34 Training Loss: 0.947 Train Accuracy: 62.96%\n",
      "EPOCH: 35 Training Loss: 0.946 Train Accuracy: 62.64%\n",
      "EPOCH: 36 Training Loss: 0.938 Train Accuracy: 63.03%\n",
      "EPOCH: 37 Training Loss: 0.940 Train Accuracy: 63.88%\n",
      "EPOCH: 38 Training Loss: 0.944 Train Accuracy: 63.22%\n",
      "EPOCH: 39 Training Loss: 0.915 Train Accuracy: 64.74%\n",
      "EPOCH: 40 Training Loss: 0.927 Train Accuracy: 63.01%\n",
      "EPOCH: 41 Training Loss: 0.922 Train Accuracy: 63.26%\n",
      "EPOCH: 42 Training Loss: 0.938 Train Accuracy: 63.46%\n",
      "EPOCH: 43 Training Loss: 0.922 Train Accuracy: 63.58%\n",
      "EPOCH: 44 Training Loss: 0.915 Train Accuracy: 63.20%\n",
      "EPOCH: 45 Training Loss: 0.919 Train Accuracy: 64.15%\n",
      "EPOCH: 46 Training Loss: 0.908 Train Accuracy: 64.52%\n",
      "EPOCH: 47 Training Loss: 0.907 Train Accuracy: 64.58%\n",
      "EPOCH: 48 Training Loss: 0.897 Train Accuracy: 64.10%\n",
      "EPOCH: 49 Training Loss: 0.901 Train Accuracy: 64.82%\n"
     ]
    }
   ],
   "source": [
    "for epoch in range(50):\n",
    "    print(\"EPOCH:\",epoch,end=\" \")\n",
    "    running_loss=0\n",
    "    running_acc=0\n",
    "   \n",
    "    for i, data in enumerate(dataloader):\n",
    "        inputs, labels = data['im'].to(device), data['labels'].to(device)\n",
    "        optimizer.zero_grad()\n",
    "        outputs = model(inputs)\n",
    "        loss = criterion(outputs, labels)\n",
    "        \n",
    "        result = torch.argmax(outputs,dim=1)\n",
    "        running_loss+=loss.item()\n",
    "        running_acc+=torch.mean((result==labels).type(torch.float))\n",
    "        \n",
    "        loss.backward()\n",
    "        optimizer.step()\n",
    "        \n",
    "    else:\n",
    "        train_loss=running_loss/len(dataloader)\n",
    "        train_acc=running_acc/len(dataloader)\n",
    "        \n",
    "        print(\"Training Loss: {:.3f}\".format(train_loss),end=\" \") \n",
    "       \n",
    "        print(\"Train Accuracy: {:.2f}%\".format(train_acc.item()*100))\n"
   ]
  },
  {
   "cell_type": "code",
   "execution_count": null,
   "id": "55691962",
   "metadata": {},
   "outputs": [],
   "source": []
  }
 ],
 "metadata": {
  "kernelspec": {
   "display_name": "Python 3",
   "language": "python",
   "name": "python3"
  },
  "language_info": {
   "codemirror_mode": {
    "name": "ipython",
    "version": 3
   },
   "file_extension": ".py",
   "mimetype": "text/x-python",
   "name": "python",
   "nbconvert_exporter": "python",
   "pygments_lexer": "ipython3",
   "version": "3.8.5"
  }
 },
 "nbformat": 4,
 "nbformat_minor": 5
}
