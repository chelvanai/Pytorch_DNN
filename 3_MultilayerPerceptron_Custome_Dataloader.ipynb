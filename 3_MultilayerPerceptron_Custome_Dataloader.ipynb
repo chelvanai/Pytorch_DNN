{
 "cells": [
  {
   "cell_type": "code",
   "execution_count": 1,
   "id": "e6435e49",
   "metadata": {},
   "outputs": [],
   "source": [
    "import numpy as np\n",
    "import torch\n",
    "import torch.nn as nn \n",
    "import torch.nn.functional as F \n",
    "from torch.utils.data import Dataset,DataLoader\n",
    "import pandas as pd\n",
    "from sklearn import preprocessing"
   ]
  },
  {
   "cell_type": "code",
   "execution_count": 2,
   "id": "6751c670",
   "metadata": {},
   "outputs": [
    {
     "name": "stdout",
     "output_type": "stream",
     "text": [
      "cuda:0\n"
     ]
    }
   ],
   "source": [
    "device = torch.device(\"cuda:0\" if torch.cuda.is_available() else \"cpu\")\n",
    "print(device)"
   ]
  },
  {
   "cell_type": "code",
   "execution_count": 3,
   "id": "83bb949d",
   "metadata": {},
   "outputs": [
    {
     "name": "stdout",
     "output_type": "stream",
     "text": [
      "--2021-05-16 01:34:24--  https://gist.githubusercontent.com/curran/a08a1080b88344b0c8a7/raw/0e7a9b0a5d22642a06d3d5b9bcbad9890c8ee534/iris.csv\n",
      "Resolving gist.githubusercontent.com (gist.githubusercontent.com)... 185.199.109.133, 185.199.111.133, 185.199.110.133, ...\n",
      "Connecting to gist.githubusercontent.com (gist.githubusercontent.com)|185.199.109.133|:443... connected.\n",
      "HTTP request sent, awaiting response... 200 OK\n",
      "Length: 3858 (3.8K) [text/plain]\n",
      "Saving to: ‘iris.csv.5’\n",
      "\n",
      "iris.csv.5          100%[===================>]   3.77K  --.-KB/s    in 0.001s  \n",
      "\n",
      "2021-05-16 01:34:24 (3.22 MB/s) - ‘iris.csv.5’ saved [3858/3858]\n",
      "\n"
     ]
    }
   ],
   "source": [
    "!wget https://gist.githubusercontent.com/curran/a08a1080b88344b0c8a7/raw/0e7a9b0a5d22642a06d3d5b9bcbad9890c8ee534/iris.csv"
   ]
  },
  {
   "cell_type": "markdown",
   "id": "fa702e7d",
   "metadata": {},
   "source": [
    "### Dataloader"
   ]
  },
  {
   "cell_type": "code",
   "execution_count": 4,
   "id": "17c8c695",
   "metadata": {},
   "outputs": [],
   "source": [
    "class IrisDataset(Dataset):\n",
    "    def __init__(self, file):\n",
    "        self.data = pd.read_csv(file)\n",
    "        input_features = self.data.values[:, 0:4].astype('float32')\n",
    "        self.x_train = torch.from_numpy(input_features)\n",
    "        \n",
    "        label_encoder = preprocessing.LabelEncoder()\n",
    "        self.data['species'] = label_encoder.fit_transform(self.data['species'])\n",
    "        mapping = dict(zip(label_encoder.classes_, label_encoder.transform(label_encoder.classes_)))\n",
    "        print(mapping)\n",
    "        target_label = self.data['species'].values\n",
    "        \n",
    "        self.y_train = torch.from_numpy(target_label)\n",
    "        \n",
    "    def __len__(self):\n",
    "        return len(self.data)\n",
    "    \n",
    "    def __getitem__(self, idx):\n",
    "        \n",
    "        return (self.x_train[idx],self.y_train[idx])"
   ]
  },
  {
   "cell_type": "code",
   "execution_count": 5,
   "id": "b3d8d379",
   "metadata": {},
   "outputs": [
    {
     "name": "stdout",
     "output_type": "stream",
     "text": [
      "{'setosa': 0, 'versicolor': 1, 'virginica': 2}\n"
     ]
    }
   ],
   "source": [
    "dataset = IrisDataset('iris.csv')\n",
    "dataloader = DataLoader(dataset, batch_size=16, shuffle=True)"
   ]
  },
  {
   "cell_type": "code",
   "execution_count": 7,
   "id": "b36855ef",
   "metadata": {},
   "outputs": [
    {
     "data": {
      "text/plain": [
       "(tensor([5.3000, 3.7000, 1.5000, 0.2000]), tensor(0))"
      ]
     },
     "execution_count": 7,
     "metadata": {},
     "output_type": "execute_result"
    }
   ],
   "source": [
    "train_features[0],train_labels[0]"
   ]
  },
  {
   "cell_type": "markdown",
   "id": "2b1c9e6e",
   "metadata": {},
   "source": [
    "### Model"
   ]
  },
  {
   "cell_type": "code",
   "execution_count": 6,
   "id": "f6558909",
   "metadata": {},
   "outputs": [],
   "source": [
    "class Model(nn.Module):\n",
    "    def __init__(self, input_dim):\n",
    "        super(Model, self).__init__()\n",
    "        self.layer1 = nn.Linear(input_dim, 50)\n",
    "        self.layer2 = nn.Linear(50, 50)\n",
    "        self.layer3 = nn.Linear(50, 3)\n",
    "\n",
    "    def forward(self, x):\n",
    "        x = F.relu(self.layer1(x))\n",
    "        x = F.relu(self.layer2(x))\n",
    "        x = F.softmax(self.layer3(x), dim=1)\n",
    "        return x"
   ]
  },
  {
   "cell_type": "code",
   "execution_count": 7,
   "id": "f6e876eb",
   "metadata": {},
   "outputs": [],
   "source": [
    "model = Model(4).to(device)"
   ]
  },
  {
   "cell_type": "markdown",
   "id": "73162468",
   "metadata": {},
   "source": [
    "### Optimizer and loss"
   ]
  },
  {
   "cell_type": "code",
   "execution_count": 8,
   "id": "91dc5a22",
   "metadata": {},
   "outputs": [],
   "source": [
    "criterion = nn.CrossEntropyLoss()\n",
    "optimizer = torch.optim.Adam(model.parameters(), lr=0.001)"
   ]
  },
  {
   "cell_type": "markdown",
   "id": "436f4f11",
   "metadata": {},
   "source": [
    "### Train"
   ]
  },
  {
   "cell_type": "code",
   "execution_count": 9,
   "id": "6e2745c3",
   "metadata": {
    "scrolled": true
   },
   "outputs": [
    {
     "name": "stdout",
     "output_type": "stream",
     "text": [
      "EPOCH: 1 Training Loss: 1.083 Train Accuracy: 34.38%\n",
      "EPOCH: 2 Training Loss: 1.068 Train Accuracy: 32.29%\n",
      "EPOCH: 3 Training Loss: 1.041 Train Accuracy: 33.33%\n",
      "EPOCH: 4 Training Loss: 1.016 Train Accuracy: 60.62%\n",
      "EPOCH: 5 Training Loss: 0.982 Train Accuracy: 65.62%\n",
      "EPOCH: 6 Training Loss: 0.943 Train Accuracy: 65.62%\n",
      "EPOCH: 7 Training Loss: 0.893 Train Accuracy: 67.71%\n",
      "EPOCH: 8 Training Loss: 0.858 Train Accuracy: 66.67%\n",
      "EPOCH: 9 Training Loss: 0.840 Train Accuracy: 64.17%\n",
      "EPOCH: 10 Training Loss: 0.806 Train Accuracy: 90.62%\n",
      "EPOCH: 11 Training Loss: 0.783 Train Accuracy: 88.13%\n",
      "EPOCH: 12 Training Loss: 0.758 Train Accuracy: 91.87%\n",
      "EPOCH: 13 Training Loss: 0.746 Train Accuracy: 91.25%\n",
      "EPOCH: 14 Training Loss: 0.729 Train Accuracy: 93.13%\n",
      "EPOCH: 15 Training Loss: 0.715 Train Accuracy: 96.46%\n",
      "EPOCH: 16 Training Loss: 0.701 Train Accuracy: 96.25%\n",
      "EPOCH: 17 Training Loss: 0.697 Train Accuracy: 92.50%\n",
      "EPOCH: 18 Training Loss: 0.696 Train Accuracy: 91.46%\n",
      "EPOCH: 19 Training Loss: 0.707 Train Accuracy: 85.83%\n",
      "EPOCH: 20 Training Loss: 0.679 Train Accuracy: 93.13%\n"
     ]
    }
   ],
   "source": [
    "epochs = 20\n",
    "\n",
    "for epoch in range(1,epochs+1):\n",
    "    print(\"EPOCH:\",epoch,end=\" \")\n",
    "    running_loss=0\n",
    "    running_acc=0\n",
    "    \n",
    "    for data,labels in dataloader:\n",
    "        data,labels=data.to(device),labels.to(device)\n",
    "        optimizer.zero_grad()\n",
    "        output=model.forward(data)\n",
    "        loss=criterion(output,labels)\n",
    "        \n",
    "        result=torch.argmax(output,dim=1)\n",
    "        running_loss+=loss.item()\n",
    "        running_acc+=torch.mean((result==labels).type(torch.float))\n",
    "        \n",
    "        loss.backward()\n",
    "        optimizer.step()\n",
    "    else:\n",
    "        train_loss=running_loss/len(dataloader)\n",
    "        train_acc=running_acc/len(dataloader)\n",
    "        \n",
    "        print(\"Training Loss: {:.3f}\".format(train_loss),end=\" \") \n",
    "       \n",
    "        print(\"Train Accuracy: {:.2f}%\".format(train_acc.item()*100))\n",
    "        "
   ]
  },
  {
   "cell_type": "markdown",
   "id": "414bc055",
   "metadata": {},
   "source": [
    "### Test"
   ]
  },
  {
   "cell_type": "code",
   "execution_count": 56,
   "id": "62585348",
   "metadata": {},
   "outputs": [],
   "source": [
    "train_features, train_labels = next(iter(dataloader))"
   ]
  },
  {
   "cell_type": "code",
   "execution_count": 57,
   "id": "120ee468",
   "metadata": {},
   "outputs": [
    {
     "data": {
      "text/plain": [
       "(tensor([4.8000, 3.0000, 1.4000, 0.3000]), tensor(0))"
      ]
     },
     "execution_count": 57,
     "metadata": {},
     "output_type": "execute_result"
    }
   ],
   "source": [
    "train_features[8],train_labels[8]"
   ]
  },
  {
   "cell_type": "code",
   "execution_count": 60,
   "id": "963d29bc",
   "metadata": {},
   "outputs": [],
   "source": [
    "data = np.array([[4.8000, 3.0000, 1.4000, 0.3000]], dtype=np.float32)\n",
    "data = torch.from_numpy(data).to(device)"
   ]
  },
  {
   "cell_type": "code",
   "execution_count": 62,
   "id": "8c68f2b9",
   "metadata": {},
   "outputs": [
    {
     "data": {
      "text/plain": [
       "tensor([0], device='cuda:0')"
      ]
     },
     "execution_count": 62,
     "metadata": {},
     "output_type": "execute_result"
    }
   ],
   "source": [
    "torch.argmax(model(data),dim=1)"
   ]
  },
  {
   "cell_type": "code",
   "execution_count": null,
   "id": "c9b0a05d",
   "metadata": {},
   "outputs": [],
   "source": []
  }
 ],
 "metadata": {
  "kernelspec": {
   "display_name": "Python 3",
   "language": "python",
   "name": "python3"
  },
  "language_info": {
   "codemirror_mode": {
    "name": "ipython",
    "version": 3
   },
   "file_extension": ".py",
   "mimetype": "text/x-python",
   "name": "python",
   "nbconvert_exporter": "python",
   "pygments_lexer": "ipython3",
   "version": "3.8.5"
  }
 },
 "nbformat": 4,
 "nbformat_minor": 5
}
