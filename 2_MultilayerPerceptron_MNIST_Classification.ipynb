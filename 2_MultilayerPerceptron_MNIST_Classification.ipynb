{
 "cells": [
  {
   "cell_type": "code",
   "execution_count": 1,
   "id": "bf57cc4e",
   "metadata": {},
   "outputs": [],
   "source": [
    "import torch\n",
    "import torch.nn as nn \n",
    "import torch.nn.functional as F \n",
    "import torch.optim as optim\n",
    "import torchvision\n",
    "from torchvision import datasets\n",
    "from torch.utils.data import DataLoader\n",
    "import torchvision.transforms as transforms\n",
    "import matplotlib.pyplot as plt "
   ]
  },
  {
   "cell_type": "code",
   "execution_count": 2,
   "id": "75f12c80",
   "metadata": {},
   "outputs": [
    {
     "name": "stdout",
     "output_type": "stream",
     "text": [
      "cuda:0\n"
     ]
    }
   ],
   "source": [
    "device = torch.device(\"cuda:0\" if torch.cuda.is_available() else \"cpu\")\n",
    "print(device)"
   ]
  },
  {
   "cell_type": "markdown",
   "id": "75c4a868",
   "metadata": {},
   "source": [
    "### Dataset & Data loader"
   ]
  },
  {
   "cell_type": "code",
   "execution_count": null,
   "id": "c382dd25",
   "metadata": {},
   "outputs": [],
   "source": [
    "train_dataset = datasets.MNIST('MNIST/',\n",
    "                              train=True,\n",
    "                              download=True,\n",
    "                              transform=transforms.Compose([\n",
    "                                  transforms.ToTensor(),\n",
    "                                  transforms.Normalize((0.5,),(0.5,))\n",
    "                              ]))\n",
    "\n",
    "test_dataset = datasets.MNIST('MNIST/',\n",
    "                              train=False,\n",
    "                              download=True,\n",
    "                              transform=transforms.Compose([\n",
    "                                  transforms.ToTensor(),\n",
    "                                  transforms.Normalize((0.5,),(0.5,))\n",
    "                              ]))\n",
    "\n",
    "train_loader = DataLoader(train_dataset, batch_size=100, shuffle=True)\n",
    "\n",
    "test_loader = DataLoader(test_dataset, batch_size=500, shuffle=False)"
   ]
  },
  {
   "cell_type": "markdown",
   "id": "e64a0ae5",
   "metadata": {},
   "source": [
    "### visualize the dataset"
   ]
  },
  {
   "cell_type": "code",
   "execution_count": 6,
   "id": "f42a3399",
   "metadata": {},
   "outputs": [
    {
     "data": {
      "image/png": "[encoded data removed]",
      "text/plain": [
       "<Figure size 1800x288 with 20 Axes>"
      ]
     },
     "metadata": {},
     "output_type": "display_data"
    }
   ],
   "source": [
    "idx2lbl={0:'0',1:'1',2:'2',3:'3',4:'4',5:'5',6:'6',7:'7',8:'8',9:'9'}\n",
    "\n",
    "\n",
    "images,labels=next(iter(train_loader))\n",
    "fig=plt.figure(figsize=(25,4))\n",
    "for i in range(1,21):\n",
    "    ax=fig.add_subplot(2,10,i,xticks=[],yticks=[])\n",
    "    ax.imshow(images[i].view(28,28),cmap='gray')\n",
    "    ax.set_title(str(idx2lbl[labels[i].item()]))\n"
   ]
  },
  {
   "cell_type": "markdown",
   "id": "2022d21e",
   "metadata": {},
   "source": [
    "### Model"
   ]
  },
  {
   "cell_type": "code",
   "execution_count": 7,
   "id": "951f00c3",
   "metadata": {},
   "outputs": [],
   "source": [
    "class MultilayerPerceptron(nn.Module):\n",
    "    def __init__(self, input_size, output_size, hidden_size0, hidden_size1):\n",
    "        super().__init__()\n",
    "        self.d1 = nn.Linear(input_size,hidden_size0)  #hidden layer 1\n",
    "        self.d2 = nn.Linear(hidden_size0,hidden_size1)   # hidden layer 2\n",
    "        self.d3 = nn.Linear(hidden_size1,output_size)  # output layer\n",
    "    \n",
    "    def forward(self,X):\n",
    "        X = F.relu(self.d1(X))\n",
    "        X = F.relu(self.d2(X))\n",
    "        X = self.d3(X)\n",
    "        return F.log_softmax(X, dim=1)"
   ]
  },
  {
   "cell_type": "code",
   "execution_count": 8,
   "id": "f1d98968",
   "metadata": {},
   "outputs": [
    {
     "name": "stdout",
     "output_type": "stream",
     "text": [
      "MultilayerPerceptron(\n",
      "  (d1): Linear(in_features=784, out_features=120, bias=True)\n",
      "  (d2): Linear(in_features=120, out_features=84, bias=True)\n",
      "  (d3): Linear(in_features=84, out_features=10, bias=True)\n",
      ")\n"
     ]
    }
   ],
   "source": [
    "model = MultilayerPerceptron(input_size=784, hidden_size0=120, hidden_size1=84, output_size=10).to(device)\n",
    "print(model)"
   ]
  },
  {
   "cell_type": "markdown",
   "id": "0a5ccfd4",
   "metadata": {},
   "source": [
    "### Optimizer and loss"
   ]
  },
  {
   "cell_type": "code",
   "execution_count": 9,
   "id": "4226ad71",
   "metadata": {},
   "outputs": [],
   "source": [
    "criterion = nn.CrossEntropyLoss()\n",
    "optimizer = torch.optim.Adam(model.parameters(), lr=0.001)"
   ]
  },
  {
   "cell_type": "markdown",
   "id": "3bbbcb51",
   "metadata": {},
   "source": [
    "### Train"
   ]
  },
  {
   "cell_type": "code",
   "execution_count": 10,
   "id": "6a369c6e",
   "metadata": {},
   "outputs": [
    {
     "name": "stdout",
     "output_type": "stream",
     "text": [
      "EPOCH: 1 Training Loss: 0.419 Train Accuracy: 87.74%\n",
      "EPOCH: 2 Training Loss: 0.203 Train Accuracy: 93.96%\n",
      "EPOCH: 3 Training Loss: 0.149 Train Accuracy: 95.55%\n",
      "EPOCH: 4 Training Loss: 0.118 Train Accuracy: 96.39%\n",
      "EPOCH: 5 Training Loss: 0.101 Train Accuracy: 96.89%\n",
      "EPOCH: 6 Training Loss: 0.084 Train Accuracy: 97.40%\n",
      "EPOCH: 7 Training Loss: 0.076 Train Accuracy: 97.65%\n",
      "EPOCH: 8 Training Loss: 0.068 Train Accuracy: 97.77%\n",
      "EPOCH: 9 Training Loss: 0.061 Train Accuracy: 98.02%\n",
      "EPOCH: 10 Training Loss: 0.054 Train Accuracy: 98.26%\n"
     ]
    }
   ],
   "source": [
    "epochs = 10\n",
    "\n",
    "for epoch in range(1,epochs+1):\n",
    "    print(\"EPOCH:\",epoch,end=\" \")\n",
    "    running_loss=0\n",
    "    running_acc=0\n",
    "    \n",
    "    for images,labels in train_loader:\n",
    "        images,labels=images.to(device),labels.to(device)\n",
    "        X=images.view(-1,784)\n",
    "        \n",
    "        optimizer.zero_grad()\n",
    "        output=model.forward(X)\n",
    "        loss=criterion(output,labels)\n",
    "        \n",
    "        result=torch.argmax(output,dim=1)\n",
    "        running_loss+=loss.item()\n",
    "        running_acc+=torch.mean((result==labels).type(torch.float))\n",
    "        \n",
    "        loss.backward()\n",
    "        optimizer.step()\n",
    "    else:\n",
    "        train_loss=running_loss/len(train_loader)\n",
    "        train_acc=running_acc/len(train_loader)\n",
    "        \n",
    "        print(\"Training Loss: {:.3f}\".format(train_loss),end=\" \") \n",
    "       \n",
    "        print(\"Train Accuracy: {:.2f}%\".format(train_acc.item()*100))\n",
    "        "
   ]
  },
  {
   "cell_type": "markdown",
   "id": "dd7f7768",
   "metadata": {},
   "source": [
    "### Test"
   ]
  },
  {
   "cell_type": "code",
   "execution_count": 11,
   "id": "684a57f7",
   "metadata": {},
   "outputs": [
    {
     "name": "stdout",
     "output_type": "stream",
     "text": [
      "Test accuracy: 97.640%\n"
     ]
    }
   ],
   "source": [
    "tst_corr = 0\n",
    "\n",
    "with torch.no_grad(): \n",
    "    for b, (X_test, y_test) in enumerate(test_loader):\n",
    "        X_test = X_test.to(device)\n",
    "        y_test = y_test.to(device)\n",
    "        y_val = model(X_test.view(-1,784)) \n",
    " \n",
    "        predicted = torch.max(y_val.data, 1)[1] \n",
    "        tst_corr += (predicted == y_test).sum()\n",
    "    \n",
    "print(f'Test accuracy: {tst_corr*100/10000:.3f}%') "
   ]
  },
  {
   "cell_type": "code",
   "execution_count": null,
   "id": "2bfe6db5",
   "metadata": {},
   "outputs": [],
   "source": []
  }
 ],
 "metadata": {
  "kernelspec": {
   "display_name": "Python 3",
   "language": "python",
   "name": "python3"
  },
  "language_info": {
   "codemirror_mode": {
    "name": "ipython",
    "version": 3
   },
   "file_extension": ".py",
   "mimetype": "text/x-python",
   "name": "python",
   "nbconvert_exporter": "python",
   "pygments_lexer": "ipython3",
   "version": "3.8.5"
  }
 },
 "nbformat": 4,
 "nbformat_minor": 5
}
